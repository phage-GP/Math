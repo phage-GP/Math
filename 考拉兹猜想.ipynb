{
 "cells": [
  {
   "cell_type": "markdown",
   "id": "8c52407e",
   "metadata": {},
   "source": [
    "**生成过程**"
   ]
  },
  {
   "cell_type": "code",
   "execution_count": null,
   "id": "6d254988",
   "metadata": {},
   "outputs": [],
   "source": [
    "num_list = range(1,10000) # 大于0的整数\n",
    "\n",
    "cal_list = [] # 所有候选计算结果\n",
    "\n",
    "for i in num_list:\n",
    "    cal_list_i = [] # 每个数计算结果\n",
    "    n = i\n",
    "    while n > 1:\n",
    "        if n%2 == 1:\n",
    "            n = 3*n + 1\n",
    "        else:\n",
    "            n = n/2\n",
    "        cal_list_i.append(n) \n",
    "    cal_list.append(cal_list_i)"
   ]
  },
  {
   "cell_type": "markdown",
   "id": "45dd7448",
   "metadata": {},
   "source": [
    "**可视化**"
   ]
  },
  {
   "cell_type": "code",
   "execution_count": null,
   "id": "d271a829",
   "metadata": {},
   "outputs": [],
   "source": [
    "# 绘图; 设置末尾相同对齐\n",
    "import numpy as np\n",
    "import matplotlib.pyplot as plt\n",
    "\n",
    "for i in cal_list:\n",
    "    i.reverse() # 反转对齐\n",
    "    # print(i[:6])\n",
    "    plt.plot(i[:6])"
   ]
  },
  {
   "cell_type": "code",
   "execution_count": null,
   "id": "32c62542",
   "metadata": {},
   "outputs": [],
   "source": []
  }
 ],
 "metadata": {
  "kernelspec": {
   "display_name": "Python 3",
   "language": "python",
   "name": "python3"
  },
  "language_info": {
   "codemirror_mode": {
    "name": "ipython",
    "version": 3
   },
   "file_extension": ".py",
   "mimetype": "text/x-python",
   "name": "python",
   "nbconvert_exporter": "python",
   "pygments_lexer": "ipython3",
   "version": "3.7.7"
  }
 },
 "nbformat": 4,
 "nbformat_minor": 5
}
